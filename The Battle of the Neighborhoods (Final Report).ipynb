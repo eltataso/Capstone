{
    "cells": [
        {
            "metadata": {
                "collapsed": true
            },
            "cell_type": "markdown",
            "source": "Introduction: Business Problem \n\nThe Battle of Neighborhoods (Introduction)\nIn this project we will be exploring the city of Atlanta, Georgia for new restaurants.\nIntroduction In this project we will explore the city of Atlanta data. Here we will try finding if someone wants to open a new restaurant in the city which location is best suited for it keeping in mind the competitors and which income group of people will be attracted most to it based on the population of the neighborhood.\nBusiness Problem:\nMetro Atlanta, designated by the United States Office of Management and Budget as the Atlanta\u2013Sandy Springs\u2013Alpharetta, GA Metropolitan Statistical Area, is the most populous metro area in the US state of Georgia and the ninth-largest metropolitan statistical area (MSA) in the United States. Its economic, cultural and demographic center is Atlanta, and has an estimated 2019 population of 6,020,364 according to the U.S. Census Bureau. The metro area forms the core of a broader trading area, the Atlanta\u2013Athens-Clarke\u2013Sandy Springs Combined Statistical Area. The Combined Statistical Area spans up to 39 counties in north Georgia and has an estimated 2017 population of 6,555,956. Atlanta is considered a \"beta(+) world city.\" It is the third largest metropolitan region in the Census Bureau's Southeast region behind Greater Washington and Greater Miami. Having such vast population and big geographical area, there also exists big competition between businesses. Therefore it became very challenging for stake holder or new business to decide which area they should start their business to get higher revenue with lowest possible competition.\nTarget Audience: Restaurant entrepreneurs who wants to open a restaurant in the southeast portion of the United States (Atlanta, Georgia, USA. This project will identify venues and suggest the target audience which are the best locations to open new restaurants and gaining maximum profits in the city of Atlanta.\n\nData \nThe data for this project is from:\n\u2022\tGeopy \u2013 location coordinates.\n\u2022\tFoursquare API - To get the list of venues list.\n\nMethodology\nThe methodology for this project consist of seven parts:\n1 Obtain the coordinates of the target city.\n2 Obtain the list of neighborhoods and the coordinates.\n3 Explored the most visited venues in the target localities\n4 Clustering and analyzin the neigborhoods of the city.\n5 Using the model to predict the best suited location for the Italian Restaurant\n\n\nAnalysis \nThe city of Atlanta, Georgia is made up of 243 neighborhoods officially defined by the city. These neighborhoods are a mix of traditional neighborhoods, subdivisions, or groups of subdivisions. The data shows that there is a great number of restaurants in the city of Atlanta, however there are areas just outside the city with very low numbers of restaurants. \nItalian Restaurants \u2013the data shows that the majority of Italian restaurants are concentrated in the city center Latitude 33.724883586114544, longitude -84.40789176943848. Also,the city of Atlanta has low numbers of Italian Restaurants in the south east part of the city showing low clusters and moderate number of Italian Restaurants are present in the north part of the city.\nThis analysis presents a great opportunity to restaurants entrepreneurs to explore the potential of the southeast part of the city of Atlanta to open Italian Restaurants.\nIt is also evident that the central part of the metropolitan area of Atlanta is suffering from high competition and over supply, hence investment in this area should be avoided by potential new restaurant developers\nIt is entirely possible that there is a very good reason for small number of restaurants in any of those areas, reasons which would make them unsuitable for a new restaurant regardless of lack of competition in the area. Recommended zones should therefore be considered only as a starting point for more detailed analysis which could eventually result in location which has not only no nearby competition but also other factors taken into account and all other relevant conditions met.\n\nConclusion \nIn this project we explored the city of Atlanta, Georgia for new Italian restaurants. The results demonstrated that the city center of Atlanta is saturated of Italian restaurants making the area not recommended due to the large competition. Overall, the southeast side of the city is the recommended location to open a new Italian restaurant.\nBy calculating restaurant location distribution using the Foursquare data we have identified several locations around the city that justify further analysis.  \n\nWe recommend the southeast section of the city for new restaurant opportunities but also highlight the need to avoid the city center for additional restaurant locations. The final decision should consider other factors such as real estate costs, population development, traffic, & proximity to major roads, social and economic opportunities, among other things.\n"
        },
        {
            "metadata": {},
            "cell_type": "code",
            "source": "",
            "execution_count": null,
            "outputs": []
        }
    ],
    "metadata": {
        "kernelspec": {
            "name": "python3",
            "display_name": "Python 3.7",
            "language": "python"
        },
        "language_info": {
            "name": "python",
            "version": "3.7.9",
            "mimetype": "text/x-python",
            "codemirror_mode": {
                "name": "ipython",
                "version": 3
            },
            "pygments_lexer": "ipython3",
            "nbconvert_exporter": "python",
            "file_extension": ".py"
        }
    },
    "nbformat": 4,
    "nbformat_minor": 1
}