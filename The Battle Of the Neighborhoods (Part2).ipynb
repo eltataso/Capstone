{
    "cells": [
        {
            "metadata": {
                "collapsed": true
            },
            "cell_type": "markdown",
            "source": "Capstone Project - Battle of Neighborhoods (week 2)\nApplied Data Science Capstone\nIntroduction to Business Problem\nOpening a new Italian Restaurant in Atlanta, Georgia\nThe objective of this report is to determine the best possible location to open an Italian Restaurant in Atlanta based on the different localities of the city, already established Italian restaurant in various geographical location and ease of accessibility by maximum number of people so that the revenue from the latest venture can be maximized.\n"
        },
        {
            "metadata": {},
            "cell_type": "code",
            "source": "#Importing required libraries\nimport numpy as np\nimport pandas as pd\n\nfrom geopy.geocoders import Nominatim\ntry:\n    import geocoder\nexcept:\n    !pip install geocoder\n    import geocoder\n\nimport requests\nfrom bs4 import BeautifulSoup\n\ntry:\n    import folium\nexcept:\n    !pip install folium\n    import folium\n    \nfrom sklearn.cluster import KMeans\n\nfrom sklearn import preprocessing\n\nfrom sklearn.model_selection import train_test_split\n\nfrom sklearn.neighbors import KNeighborsClassifier\n\nfrom sklearn import metrics\n\nimport matplotlib as mpl\nimport matplotlib.pyplot as plt\n",
            "execution_count": 43,
            "outputs": []
        },
        {
            "metadata": {},
            "cell_type": "code",
            "source": "# install wordcloud\n!pip install wordcloud\n# import package and its set of stopwords\nfrom wordcloud import WordCloud, STOPWORDS\n\nprint ('Wordcloud is installed and imported!')\n",
            "execution_count": 44,
            "outputs": [
                {
                    "output_type": "stream",
                    "text": "Requirement already satisfied: wordcloud in /opt/conda/envs/Python-3.7-main/lib/python3.7/site-packages (1.8.1)\nRequirement already satisfied: pillow in /opt/conda/envs/Python-3.7-main/lib/python3.7/site-packages (from wordcloud) (7.2.0)\nRequirement already satisfied: numpy>=1.6.1 in /opt/conda/envs/Python-3.7-main/lib/python3.7/site-packages (from wordcloud) (1.18.5)\nRequirement already satisfied: matplotlib in /opt/conda/envs/Python-3.7-main/lib/python3.7/site-packages (from wordcloud) (3.2.2)\nRequirement already satisfied: python-dateutil>=2.1 in /opt/conda/envs/Python-3.7-main/lib/python3.7/site-packages (from matplotlib->wordcloud) (2.8.1)\nRequirement already satisfied: cycler>=0.10 in /opt/conda/envs/Python-3.7-main/lib/python3.7/site-packages (from matplotlib->wordcloud) (0.10.0)\nRequirement already satisfied: pyparsing!=2.0.4,!=2.1.2,!=2.1.6,>=2.0.1 in /opt/conda/envs/Python-3.7-main/lib/python3.7/site-packages (from matplotlib->wordcloud) (2.4.7)\nRequirement already satisfied: kiwisolver>=1.0.1 in /opt/conda/envs/Python-3.7-main/lib/python3.7/site-packages (from matplotlib->wordcloud) (1.2.0)\nRequirement already satisfied: six>=1.5 in /opt/conda/envs/Python-3.7-main/lib/python3.7/site-packages (from python-dateutil>=2.1->matplotlib->wordcloud) (1.15.0)\nWordcloud is installed and imported!\n",
                    "name": "stdout"
                }
            ]
        },
        {
            "metadata": {},
            "cell_type": "code",
            "source": "#Getting the location of Atlanta using the geocoder package\ng = geocoder.arcgis('Atlanta, Georgia, USA')\nblr_lat = g.latlng[0]\nblr_lng = g.latlng[1]\nprint(\"The Latitude and Longitude of the City of Atlanta is {} and {}\".format(blr_lat, blr_lng))\n",
            "execution_count": 45,
            "outputs": [
                {
                    "output_type": "stream",
                    "text": "The Latitude and Longitude of the City of Atlanta is 33.74831000000006 and -84.39110999999997\n",
                    "name": "stdout"
                }
            ]
        },
        {
            "metadata": {},
            "cell_type": "code",
            "source": "#Scraping the Wikimedia webpage for list of localities present in Atlanta, Georgia, USA\nneig = requests.get(\"https://en.wikipedia.org/wiki/Atlanta_metropolitan_area\").text",
            "execution_count": 46,
            "outputs": []
        },
        {
            "metadata": {},
            "cell_type": "code",
            "source": "#parsing the scraped content\nsoup = BeautifulSoup(neig, 'html.parser')",
            "execution_count": 47,
            "outputs": []
        },
        {
            "metadata": {},
            "cell_type": "code",
            "source": "#Creating a list to store neighborhood data\nneighborhoodlist = []",
            "execution_count": 48,
            "outputs": []
        },
        {
            "metadata": {},
            "cell_type": "code",
            "source": "#Searching the localities using class labels and appending it to the neighborhood list\nfor i in soup.find_all('div', class_='category')[0].find_all('a'):\n    neighborhoodlist.append(i.text)\n\n#Creating a dataframe from the list\nneig_df = pd.DataFrame({\"Locality\": neighborhoodlist})\nneig_df.head()",
            "execution_count": 49,
            "outputs": [
                {
                    "output_type": "execute_result",
                    "execution_count": 49,
                    "data": {
                        "text/plain": "            Locality\n0  Metropolitan area",
                        "text/html": "<div>\n<style scoped>\n    .dataframe tbody tr th:only-of-type {\n        vertical-align: middle;\n    }\n\n    .dataframe tbody tr th {\n        vertical-align: top;\n    }\n\n    .dataframe thead th {\n        text-align: right;\n    }\n</style>\n<table border=\"1\" class=\"dataframe\">\n  <thead>\n    <tr style=\"text-align: right;\">\n      <th></th>\n      <th>Locality</th>\n    </tr>\n  </thead>\n  <tbody>\n    <tr>\n      <th>0</th>\n      <td>Metropolitan area</td>\n    </tr>\n  </tbody>\n</table>\n</div>"
                    },
                    "metadata": {}
                }
            ]
        },
        {
            "metadata": {},
            "cell_type": "code",
            "source": "#Shape of dataframe neig_df\nneig_df.shape",
            "execution_count": 50,
            "outputs": [
                {
                    "output_type": "execute_result",
                    "execution_count": 50,
                    "data": {
                        "text/plain": "(1, 1)"
                    },
                    "metadata": {}
                }
            ]
        },
        {
            "metadata": {},
            "cell_type": "code",
            "source": "#Defining a function to get the location of the localities\ndef get_location(localities):\n    g = geocoder.arcgis('{}, Atlanta, Georgia'.format(localities))\n    get_latlng = g.latlng\n    return get_latlng",
            "execution_count": 51,
            "outputs": []
        },
        {
            "metadata": {},
            "cell_type": "code",
            "source": "#Creating an empty list\ncoordinates = []\n#Getting the coordinates of each locality using the function defined above\nfor i in neig_df[\"Locality\"].tolist():\n    coordinates.append(get_location(i))\nprint(coordinates)",
            "execution_count": 52,
            "outputs": [
                {
                    "output_type": "stream",
                    "text": "[[33.724883586114544, -84.40789176943848]]\n",
                    "name": "stdout"
                }
            ]
        },
        {
            "metadata": {},
            "cell_type": "code",
            "source": "coordinates[:5]",
            "execution_count": 53,
            "outputs": [
                {
                    "output_type": "execute_result",
                    "execution_count": 53,
                    "data": {
                        "text/plain": "[[33.724883586114544, -84.40789176943848]]"
                    },
                    "metadata": {}
                }
            ]
        },
        {
            "metadata": {},
            "cell_type": "code",
            "source": "#Creating a dataframe from the list of location coordinates\ncoordinates_df = pd.DataFrame(coordinates, columns=['Latitudes', 'Longitudes'])",
            "execution_count": 54,
            "outputs": []
        },
        {
            "metadata": {},
            "cell_type": "code",
            "source": "#Adding coordinates of localities to neig_df dataframe\nneig_df[\"Latitudes\"] = coordinates_df[\"Latitudes\"]\nneig_df[\"Longitudes\"] = coordinates_df[\"Longitudes\"]",
            "execution_count": 55,
            "outputs": []
        },
        {
            "metadata": {},
            "cell_type": "code",
            "source": "print(\"The shape of neig_df is {}\".format(neig_df.shape))\nneig_df.head()",
            "execution_count": 56,
            "outputs": [
                {
                    "output_type": "stream",
                    "text": "The shape of neig_df is (1, 3)\n",
                    "name": "stdout"
                },
                {
                    "output_type": "execute_result",
                    "execution_count": 56,
                    "data": {
                        "text/plain": "            Locality  Latitudes  Longitudes\n0  Metropolitan area  33.724884  -84.407892",
                        "text/html": "<div>\n<style scoped>\n    .dataframe tbody tr th:only-of-type {\n        vertical-align: middle;\n    }\n\n    .dataframe tbody tr th {\n        vertical-align: top;\n    }\n\n    .dataframe thead th {\n        text-align: right;\n    }\n</style>\n<table border=\"1\" class=\"dataframe\">\n  <thead>\n    <tr style=\"text-align: right;\">\n      <th></th>\n      <th>Locality</th>\n      <th>Latitudes</th>\n      <th>Longitudes</th>\n    </tr>\n  </thead>\n  <tbody>\n    <tr>\n      <th>0</th>\n      <td>Metropolitan area</td>\n      <td>33.724884</td>\n      <td>-84.407892</td>\n    </tr>\n  </tbody>\n</table>\n</div>"
                    },
                    "metadata": {}
                }
            ]
        },
        {
            "metadata": {
                "scrolled": true
            },
            "cell_type": "code",
            "source": "#Creating a map\nblr_map = folium.Map(location=[blr_lat, blr_lng],zoom_start=11)\n\nfolium.Marker([blr_lat, blr_lng], popup='<i>Atlanta</i>', color='red', tooltip=\"Click to see\").add_to(blr_map)\n\n#markers for localities\nfor latitude,longitude,name in zip(neig_df[\"Latitudes\"], neig_df[\"Longitudes\"], neig_df[\"Locality\"]):\n    folium.CircleMarker(\n        [latitude, longitude],\n        radius=6,\n        color='blue',\n        popup=name,\n        fill=True,\n        fill_color='#3186ff'\n    ).add_to(blr_map)\n\nblr_map",
            "execution_count": 57,
            "outputs": [
                {
                    "output_type": "execute_result",
                    "execution_count": 57,
                    "data": {
                        "text/plain": "<folium.folium.Map at 0x7fe28692c250>",
                        "text/html": "<div style=\"width:100%;\"><div style=\"position:relative;width:100%;height:0;padding-bottom:60%;\"><span style=\"color:#565656\">Make this Notebook Trusted to load map: File -> Trust Notebook</span><iframe src=\"about:blank\" style=\"position:absolute;width:100%;height:100%;left:0;top:0;border:none !important;\" data-html=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 onload=\"this.contentDocument.open();this.contentDocument.write(atob(this.getAttribute('data-html')));this.contentDocument.close();\" allowfullscreen webkitallowfullscreen mozallowfullscreen></iframe></div></div>"
                    },
                    "metadata": {}
                }
            ]
        },
        {
            "metadata": {},
            "cell_type": "code",
            "source": "# Import Pandas to provide DataFrame support\nimport pandas as pd\npd.set_option('display.max_columns', None)\npd.set_option('display.max_rows', None)\n\n# Import Requests\nimport requests\n\n# Import BeautifulSoup\nfrom bs4 import BeautifulSoup",
            "execution_count": 85,
            "outputs": []
        },
        {
            "metadata": {},
            "cell_type": "code",
            "source": "# Use the Requests get method to request the top sites \npage = requests.get(\n    \"https://foursquare.com/explore?mode=url&near=Morningside%20-%20Lenox%20Park%2C%20Atlanta%2C%20GA&nearGeoId=102851&q=Italian\")\n\n# Convert the HTML response into a BeautifulSoup Object\nsoup = BeautifulSoup(page.content, 'html.parser')\n\n# Use the BeautifulSoup find_all method to extract each top site venue details.\ntop_venues = soup.find_all('div', class_='venueDetails')",
            "execution_count": 86,
            "outputs": []
        },
        {
            "metadata": {},
            "cell_type": "code",
            "source": "# The column names for the top venues dataframe\nvenue_columns = ['id', \n                 'score', \n                 'category', \n                 'name', \n                 'address',\n                 'postalcode',\n                 'city',\n                 'href', \n                 'latitude', \n                 'longitude']\n\n# Create the empty top venues dataframe\ndf_top_venues = pd.DataFrame(columns=venue_columns)\n\n# For each venue in the BeautifulSoup HTML object\nfor venue in top_venues:\n    \n    # Extract the available attributes\n    venue_name = venue.find(target=\"_blank\").get_text()\n    venue_score = venue.find(class_=\"venueScore positive\").get_text()\n    venue_cat = venue.find(class_=\"categoryName\").get_text()\n    venue_href = venue.find(class_=\"venueName\").h2.a['href']\n    venue_id = venue_href.split('/')[-1]\n\n    if 'promotedTipId' in venue_id: \n        continue\n        \n    # Contruct the FourSquare venue API URL\n    url = 'https://api.foursquare.com/v2/venues/{}?client_id={}&client_secret={}&v={}'.format(\n        venue_id, \n        cfg['5P2CPBW0DMKJQG125AYEIEYPUN2NFJHIPT4XIVJ4HUHKUVWS'],\n        cfg['NA13Y2IZLEDBDGCX4VBRY5UE3HMSQ1LTOX3KIVMAKLJQYMSI'],\n        cfg['20201130'])\n    \n    # Request the venue data\n    result = requests.get(url).json()\n        \n    # Get the properly formatted address and the latitude and longitude\n    venue_address = result['response']['venue']['location']['address']\n    venue_postalcode = result['response']['venue']['location']['postalCode']\n    venue_city = result['response']['venue']['location']['city']\n    venue_latitude = result['response']['venue']['location']['lat']\n    venue_longitude = result['response']['venue']['location']['lng']\n    \n    # Add the venue to the top venues dataframe\n    df_top_venues = df_top_venues.append({'id': venue_id,\n                                          'score': venue_score,\n                                          'category': venue_cat,\n                                          'name': venue_name,\n                                          'address': venue_address,\n                                          'postalcode': venue_postalcode,\n                                          'city': venue_city,\n                                          'href': venue_href,\n                                          'latitude': venue_latitude,\n                                          'longitude': venue_longitude}, ignore_index=True)",
            "execution_count": 87,
            "outputs": []
        },
        {
            "metadata": {},
            "cell_type": "code",
            "source": "# Verify the shape of the top venues dataframe\ndf_top_venues.shape",
            "execution_count": 88,
            "outputs": [
                {
                    "output_type": "execute_result",
                    "execution_count": 88,
                    "data": {
                        "text/plain": "(0, 10)"
                    },
                    "metadata": {}
                }
            ]
        },
        {
            "metadata": {},
            "cell_type": "code",
            "source": "# The score type needs to be converted to float\ndf_top_venues['score'] = pd.to_numeric(df_top_venues['score'], errors='coerce').fillna(0)\n\n# Describe the score to see if there is nuch variance in the values\ndf_top_venues.score.describe()",
            "execution_count": 74,
            "outputs": [
                {
                    "output_type": "execute_result",
                    "execution_count": 74,
                    "data": {
                        "text/plain": "count    0.0\nmean     NaN\nstd      NaN\nmin      NaN\n25%      NaN\n50%      NaN\n75%      NaN\nmax      NaN\nName: score, dtype: float64"
                    },
                    "metadata": {}
                }
            ]
        },
        {
            "metadata": {},
            "cell_type": "code",
            "source": "\n# Review the head of the dataframe to make sure it looks as expected\ndf_top_venues.head()",
            "execution_count": 63,
            "outputs": [
                {
                    "output_type": "execute_result",
                    "execution_count": 63,
                    "data": {
                        "text/plain": "Empty DataFrame\nColumns: [id, score, category, name, address, postalcode, city, href, latitude, longitude]\nIndex: []",
                        "text/html": "<div>\n<style scoped>\n    .dataframe tbody tr th:only-of-type {\n        vertical-align: middle;\n    }\n\n    .dataframe tbody tr th {\n        vertical-align: top;\n    }\n\n    .dataframe thead th {\n        text-align: right;\n    }\n</style>\n<table border=\"1\" class=\"dataframe\">\n  <thead>\n    <tr style=\"text-align: right;\">\n      <th></th>\n      <th>id</th>\n      <th>score</th>\n      <th>category</th>\n      <th>name</th>\n      <th>address</th>\n      <th>postalcode</th>\n      <th>city</th>\n      <th>href</th>\n      <th>latitude</th>\n      <th>longitude</th>\n    </tr>\n  </thead>\n  <tbody>\n  </tbody>\n</table>\n</div>"
                    },
                    "metadata": {}
                }
            ]
        },
        {
            "metadata": {},
            "cell_type": "code",
            "source": "# The column names for the restaurants dataframe\nrestaurants_columns = ['id',\n                       'score', \n                       'category', \n                       'categoryID', \n                       'name', \n                       'address',\n                       'postalcode',\n                       'city',\n                       'latitude',\n                       'longitude', \n                       'venue_name', \n                       'venue_latitude',\n                       'venue_longitude']\n\n# Create the empty top venues dataframe\ndf_restaurant = pd.DataFrame(columns=restaurants_columns)\n\n# Create a list of all the top venue latitude and longitude\ntop_venue_lats = df_top_venues['latitude'].values\ntop_venue_lngs = df_top_venues['longitude'].values\n\n# Create a list of all the top venue names\ntop_venue_names = df_top_venues['name'].values\n\n# Iterate over each of the top venues\n# The venue name, latitude and longitude are passed to the loop\nfor ven_name, ven_lat, ven_long in zip(top_venue_names, top_venue_lats, top_venue_lngs):\n    \n    # Configure additional Search parameters\n    # This is the FourSquare Category Id for all food venues\n    categoryId = '4d4b7105d754a06374d81259'\n    radius = 500\n    limit = 50\n    \n    # Contruct the FourSquare search API URL\n    url = 'https://api.foursquare.com/v2/venues/search?client_id={}&client_secret={}&ll={},{}&v={}&categoryId={}&radius={}&limit={}'.format(\n        cfg['client_id'],\n        cfg['client_secret'],\n        ven_lat,\n        ven_long,\n        cfg['version'],\n        categoryId,\n        radius,\n        limit)\n    \n    # Make the search request\n    results = requests.get(url).json()\n    \n    # Want a good selection of Restaurents\n    # If less than 10 are returned ignore\n    if len(results['response']['venues']) < 10:\n        continue\n        \n    # Populate the new dataframe with the list of restaurants\n    # Get the values for each Restaurant from the JSON\n    for restaurant in results['response']['venues']:\n \n        # Sometimes the Venue JSON is missing data. If so ignore and continue\n        try:\n            # Get location details\n            rest_id = restaurant['id']\n            rest_category = restaurant['categories'][0]['pluralName']\n            rest_categoryID = restaurant['categories'][0]['id']\n            rest_name = restaurant['name']\n            rest_address = restaurant['location']['address']\n            rest_postalcode = restaurant['location']['postalCode']\n            rest_city = restaurant['location']['city']\n            rest_latitude = restaurant['location']['lat']\n            rest_longitude = restaurant['location']['lng']\n            \n            # Contruct the FourSquare venue API URL to get the venues rating / score\n            rest_url = 'https://api.foursquare.com/v2/venues/{}?client_id={}&client_secret={}&v={}'.format(\n                rest_id, \n                cfg['client_id'],\n                cfg['client_secret'],\n                cfg['version'])\n\n            # Get the restaurant score and href\n            result = requests.get(rest_url).json()\n            rest_score = result['response']['venue']['rating']\n            \n            # Add the restaurant details to the dataframe\n            df_restaurant = df_restaurant.append({'id': rest_id,\n                                                  'score': rest_score,\n                                                  'category': rest_category,\n                                                  'categoryID': rest_categoryID,\n                                                  'name': rest_name,\n                                                  'address': rest_address,\n                                                  'postalcode': rest_postalcode,\n                                                  'city': rest_city,\n                                                  'latitude': rest_latitude,\n                                                  'longitude': rest_longitude,\n                                                  'venue_name': ven_name,\n                                                  'venue_latitude': ven_lat,\n                                                  'venue_longitude': ven_long}, ignore_index=True)\n            \n        # If there are any issue with a restaurant ignore and continue\n        except:\n            continue",
            "execution_count": 75,
            "outputs": []
        },
        {
            "metadata": {},
            "cell_type": "code",
            "source": "# Verify the shape of the restaurants dataframe\ndf_restaurant.shape",
            "execution_count": 76,
            "outputs": [
                {
                    "output_type": "execute_result",
                    "execution_count": 76,
                    "data": {
                        "text/plain": "(0, 13)"
                    },
                    "metadata": {}
                }
            ]
        },
        {
            "metadata": {},
            "cell_type": "code",
            "source": "# Review the head of the dataframe to make sure it looks as expected\ndf_restaurant.head()",
            "execution_count": 77,
            "outputs": [
                {
                    "output_type": "execute_result",
                    "execution_count": 77,
                    "data": {
                        "text/plain": "Empty DataFrame\nColumns: [id, score, category, categoryID, name, address, postalcode, city, latitude, longitude, venue_name, venue_latitude, venue_longitude]\nIndex: []",
                        "text/html": "<div>\n<style scoped>\n    .dataframe tbody tr th:only-of-type {\n        vertical-align: middle;\n    }\n\n    .dataframe tbody tr th {\n        vertical-align: top;\n    }\n\n    .dataframe thead th {\n        text-align: right;\n    }\n</style>\n<table border=\"1\" class=\"dataframe\">\n  <thead>\n    <tr style=\"text-align: right;\">\n      <th></th>\n      <th>id</th>\n      <th>score</th>\n      <th>category</th>\n      <th>categoryID</th>\n      <th>name</th>\n      <th>address</th>\n      <th>postalcode</th>\n      <th>city</th>\n      <th>latitude</th>\n      <th>longitude</th>\n      <th>venue_name</th>\n      <th>venue_latitude</th>\n      <th>venue_longitude</th>\n    </tr>\n  </thead>\n  <tbody>\n  </tbody>\n</table>\n</div>"
                    },
                    "metadata": {}
                }
            ]
        },
        {
            "metadata": {},
            "cell_type": "code",
            "source": "# Describe the score to see if there is nuch variance in the values\ndf_restaurant.score.describe()",
            "execution_count": 78,
            "outputs": [
                {
                    "output_type": "execute_result",
                    "execution_count": 78,
                    "data": {
                        "text/plain": "count       0\nunique      0\ntop       NaN\nfreq      NaN\nName: score, dtype: object"
                    },
                    "metadata": {}
                }
            ]
        },
        {
            "metadata": {},
            "cell_type": "code",
            "source": "# How many of the top 30 sites / venues had > 10 restaurants nearby\ndf_restaurant.venue_name.nunique()",
            "execution_count": 79,
            "outputs": [
                {
                    "output_type": "execute_result",
                    "execution_count": 79,
                    "data": {
                        "text/plain": "0"
                    },
                    "metadata": {}
                }
            ]
        },
        {
            "metadata": {},
            "cell_type": "code",
            "source": "# How many unique restaurant categories \ndf_restaurant.category.nunique()",
            "execution_count": 80,
            "outputs": [
                {
                    "output_type": "execute_result",
                    "execution_count": 80,
                    "data": {
                        "text/plain": "0"
                    },
                    "metadata": {}
                }
            ]
        },
        {
            "metadata": {},
            "cell_type": "code",
            "source": "# How many unique restaurants \ndf_restaurant.name.nunique()",
            "execution_count": 81,
            "outputs": [
                {
                    "output_type": "execute_result",
                    "execution_count": 81,
                    "data": {
                        "text/plain": "0"
                    },
                    "metadata": {}
                }
            ]
        },
        {
            "metadata": {},
            "cell_type": "code",
            "source": "# What are the top 10 most frequently occuring restaurant types\ndf_restaurant.groupby('category')['name'].count().sort_values(ascending=False)[:10]",
            "execution_count": 82,
            "outputs": [
                {
                    "output_type": "execute_result",
                    "execution_count": 82,
                    "data": {
                        "text/plain": "Series([], Name: name, dtype: int64)"
                    },
                    "metadata": {}
                }
            ]
        },
        {
            "metadata": {},
            "cell_type": "code",
            "source": "",
            "execution_count": null,
            "outputs": []
        }
    ],
    "metadata": {
        "kernelspec": {
            "name": "python3",
            "display_name": "Python 3.7",
            "language": "python"
        },
        "language_info": {
            "name": "python",
            "version": "3.7.9",
            "mimetype": "text/x-python",
            "codemirror_mode": {
                "name": "ipython",
                "version": 3
            },
            "pygments_lexer": "ipython3",
            "nbconvert_exporter": "python",
            "file_extension": ".py"
        }
    },
    "nbformat": 4,
    "nbformat_minor": 1
}