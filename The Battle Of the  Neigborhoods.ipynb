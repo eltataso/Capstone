{
    "cells": [
        {
            "metadata": {},
            "cell_type": "markdown",
            "source": "The Battle of Neighborhoods (Introduction)\n\nIn this project we will be exploring the city of Atlanta, Georgia for new restaurants.\n\nIntroduction\nIn this project we will explore the city of Atlanta data.\nHere we will try finding if someone wants to open a new restaurant in the city which location is best suited for it keeping in mind the competitors and which income group of people will be attracted most to it based on the population of the neighborhood.\n\nBusiness Problem:\n\nMetro Atlanta, designated by the United States Office of Management and Budget as the Atlanta\u2013Sandy Springs\u2013Alpharetta, GA Metropolitan Statistical Area, is the most populous metro area in the US state of Georgia and the ninth-largest metropolitan statistical area (MSA) in the United States. Its economic, cultural and demographic center is Atlanta, and has an estimated 2019 population of 6,020,364 according to the U.S. Census Bureau. The metro area forms the core of a broader trading area, the Atlanta\u2013Athens-Clarke\u2013Sandy Springs Combined Statistical Area. The Combined Statistical Area spans up to 39 counties in north Georgia and has an estimated 2017 population of 6,555,956. Atlanta is considered a \"beta(+) world city.\" It is the third largest metropolitan region in the Census Bureau's Southeast region behind Greater Washington and Greater Miami.\nHaving such vast population and big geographical area, there also exists big competition between businesses. Therefore it became very challenging for stake holder or new business to decide which area they should start their business to get higher revenue with lowest possible competition.\n\nTarget Audience: Restaurant entrepreneurs who wants to open a restaurant in the southeast portion of the United States (Atlanta, Georgia, USA.\nThis project will identify venues and suggest the target audience which are the best locations to open new restaurants and gaining maximum profits in the city of Atlanta.\n"
        },
        {
            "metadata": {},
            "cell_type": "code",
            "source": "",
            "execution_count": null,
            "outputs": []
        }
    ],
    "metadata": {
        "kernelspec": {
            "name": "python3",
            "display_name": "Python 3.7",
            "language": "python"
        },
        "language_info": {
            "name": "python",
            "version": "3.7.9",
            "mimetype": "text/x-python",
            "codemirror_mode": {
                "name": "ipython",
                "version": 3
            },
            "pygments_lexer": "ipython3",
            "nbconvert_exporter": "python",
            "file_extension": ".py"
        }
    },
    "nbformat": 4,
    "nbformat_minor": 1
}